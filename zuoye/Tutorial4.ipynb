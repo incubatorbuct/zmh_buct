{
 "cells": [
  {
   "cell_type": "markdown",
   "metadata": {},
   "source": [
    "# Tutorial 4: MBHBs & MCMC"
   ]
  },
  {
   "cell_type": "markdown",
   "metadata": {},
   "source": [
    "张铭昊 北京化工大学 zmh780674484@163.com"
   ]
  },
  {
   "cell_type": "code",
   "execution_count": null,
   "metadata": {},
   "outputs": [],
   "source": [
    "教程4：大质量黑洞双星系统（MBHBs）与马尔科夫链蒙特卡洛方法（MCMC）"
   ]
  },
  {
   "cell_type": "code",
   "execution_count": null,
   "metadata": {},
   "outputs": [],
   "source": [
    "import numpy as np\n",
    "import matplotlib.pyplot as plt\n",
    "%matplotlib inline\n",
    "from lisatools.utils.constants import *\n",
    "from copy import deepcopy  # can be useful\n",
    "from lisatools.utils.constants import *"
   ]
  },
  {
   "cell_type": "markdown",
   "metadata": {},
   "source": [
    "In the fourth tutorial we will examine MBHB waveforms. We will examine how to generate waveforms, add the LISA response, calculate the Likelihood, and then we will run an MCMC with MBHBs. "
   ]
  },
  {
   "cell_type": "code",
   "execution_count": null,
   "metadata": {},
   "outputs": [],
   "source": [
    "  在第四个教程中我们将检测MBHB系统的引力波波形。我们将研究波形如何产生，LISA如何响应，如何计算似然值。最后会运行关于MBHB系统的MCMC程序。"
   ]
  },
  {
   "cell_type": "markdown",
   "metadata": {},
   "source": [
    "## Task 1: Generate IMRPhenomHM waveforms"
   ]
  },
  {
   "cell_type": "markdown",
   "metadata": {},
   "source": [
    "We will start by generating IMRPhenomHM waveforms for MBHBs. Pick reasonable parameters, build a waveform and plot it against the LISA Sensitivity Curve (`LISASens`) in the characteristic strain representation. **Hint**: set `f_ref = 0.0`. You can access the information after waveform generation as attributes on the class. This may be updated\n",
    "\n",
    "Useful documentation:\n",
    "* [PhenomHMAmpPhase](https://mikekatz04.github.io/BBHx/html/user/waveforms.html#bbhx.waveforms.phenomhm.PhenomHMAmpPhase)"
   ]
  },
  {
   "cell_type": "code",
   "execution_count": null,
   "metadata": {},
   "outputs": [],
   "source": [
    "任务1：生成IMRPhenomHM波形\n",
    "  我们将以产生MBHB系统的IMRPhenomHM波形来开始，选择合理的参数，建立一个波形并对照于LISA的灵敏度曲线(LISASens)，以特征应变的形式画出它。\n",
    "提示：设置f_ref = 0.0 你可以在类中获得波形建立后的信息作为属性。这里可能会被更新"
   ]
  },
  {
   "cell_type": "code",
   "execution_count": null,
   "metadata": {},
   "outputs": [],
   "source": [
    "# imports \n",
    "from bbhx.waveforms.phenomhm import PhenomHMAmpPhase\n",
    "from lisatools.sensitivity import get_sensitivity"
   ]
  },
  {
   "cell_type": "code",
   "execution_count": null,
   "metadata": {},
   "outputs": [],
   "source": [
    "wave_gen = PhenomHMAmpPhase()\n",
    "\n",
    "m1 = 2e1\n",
    "m2 = 6e3\n",
    "chi1 = 0.5\n",
    "chi2 = 0.9\n",
    "dist = 15 * 1e9 * PC_SI\n",
    "phi_refer = 0.5\n",
    "f_refer = 0.0\n",
    "t_refer = 1e5\n",
    "length = 1024\n",
    "\n",
    "wave_gen(m1, m2, chi1, chi2, dist, phi_ref, f_ref, t_ref, length)"
   ]
  },
  {
   "cell_type": "code",
   "execution_count": null,
   "metadata": {},
   "outputs": [],
   "source": [
    "fn = np.logspace(-5, -1, 10000)\n",
    "Sn_char_strain = get_sensitivity(fn, sens_fn=\"LISASens\", return_type=\"char_strain\") \n",
    "\n",
    "\n",
    "plt.loglog(fn, Sn_char_strain)\n",
    "for i in range(6):\n",
    "    char_strain = wave_gen.freqs * wave_gen.amp[0, i]\n",
    "    plt.loglog(wave_gen.freqs, char_strain)\n",
    "\n",
    "plt.xlabel(\"Fre (Hz)\")\n",
    "plt.ylabel(\"Ch Stra\")"
   ]
  },
  {
   "cell_type": "markdown",
   "metadata": {},
   "source": [
    "## Task 2: Add the response. "
   ]
  },
  {
   "cell_type": "markdown",
   "metadata": {},
   "source": [
    "Now repeat the same task as above by adding the response. In `BBHx`, the response is added automatically for you using the main waveform production class: `BBHWaveformFD`. The sensitivity for this should be `A1TDISens`.\n",
    "\n",
    "Useful Documentation:\n",
    "* [BBHWaveformFD](https://mikekatz04.github.io/BBHx/html/user/main.html#bbhx.waveformbuild.BBHWaveformFD)"
   ]
  },
  {
   "cell_type": "code",
   "execution_count": null,
   "metadata": {},
   "outputs": [],
   "source": [
    "任务2：添加响应\n",
    "  现在重复上面的工作来添加响应。在BBHx，响应已经自动地为了你使用BBHWaveformFD类而添加好。灵敏度应为A1TDISens"
   ]
  },
  {
   "cell_type": "code",
   "execution_count": null,
   "metadata": {},
   "outputs": [],
   "source": [
    "# imports\n",
    "from bbhx.waveformbuild import BBHWaveformFD"
   ]
  },
  {
   "cell_type": "code",
   "execution_count": null,
   "metadata": {},
   "outputs": [],
   "source": [
    "tdi_wave_gen = BBHWaveformFD()\n",
    "m1 = 2e1\n",
    "m2 = 6e3\n",
    "chi1 = 0.5\n",
    "chi2 = 0.9\n",
    "dist = 15 * 1e9 * PC_SI\n",
    "phi_refer = 0.5\n",
    "f_refer = 0.0\n",
    "t_refer = 1e5\n",
    "length = 1024\n",
    "Tobs = YRSID_SI / 12.  \n",
    "dt = 10.0  # sec\n",
    "N = int(Tobs / dt)\n",
    "Tobs = N * dt\n",
    "freqs = np.fft.rfftfreq(N, dt)\n",
    "\n",
    "AET = tdi_wave_gen(\n",
    "    m1,\n",
    "    m2, \n",
    "    chi1,\n",
    "    chi2,\n",
    "    dist, \n",
    "    phi_refer,\n",
    "    f_refer, \n",
    "    inc,\n",
    "    lam,\n",
    "    beta,\n",
    "    psi,\n",
    "    t_refer,\n",
    "    length=1024, \n",
    "    combine=False,  \n",
    "    direct=False,\n",
    "    fill=True,\n",
    "    squeeze=True,\n",
    "    freqs=freqs\n",
    ")\n",
    "fn = np.logspace(-5, -1, 10000)\n",
    "Sn_char_strain = get_sensitivity(fn, sens_fn=\"A1TDISens\", return_type=\"char_strain\")\n",
    "plt.loglog(fn, Sn_char_strain)\n",
    "plt.loglog(freqs, freqs * np.abs(AET[0,0]))"
   ]
  },
  {
   "cell_type": "markdown",
   "metadata": {},
   "source": [
    "## Task 3: Inject an MBHB and compute its SNR"
   ]
  },
  {
   "cell_type": "code",
   "execution_count": null,
   "metadata": {},
   "outputs": [],
   "source": [
    "任务3：注入大质量黑洞双星系统参数（MBHB）并计算信噪比（SNR）"
   ]
  },
  {
   "cell_type": "markdown",
   "metadata": {},
   "source": [
    "Now we will combine our knowledge of `lisatools` with `bbhx`. Using the same methods above, setup a full `AnalysisContainer` and inject an MBHB signal. Calculate its SNR. You will probably need to wrap the MBHB waveform generation to select out just the 1st array entry. "
   ]
  },
  {
   "cell_type": "code",
   "execution_count": null,
   "metadata": {},
   "outputs": [],
   "source": [
    "  现在我们将结合lisatools与bbhx的知识。使用与上文相同的方法，设置一个AnalysisContainer并注入MBHB信号，计算它的信噪比。你可能需要对MBHB\n",
    "波形发生器进行warp操作来选出仅第一列项目"
   ]
  },
  {
   "cell_type": "code",
   "execution_count": null,
   "metadata": {},
   "outputs": [],
   "source": [
    "# imports\n",
    "from lisatools.sensitivity import AET1SensitivityMatrix\n",
    "from lisatools.datacontainer import DataResidualArray\n",
    "from lisatools.analysiscontainer import AnalysisContainer"
   ]
  },
  {
   "cell_type": "code",
   "execution_count": null,
   "metadata": {},
   "outputs": [],
   "source": [
    "def wrap(*args, **kwargs):\n",
    "    return tdi_wave_gen(*args, **kwargs)[0]\n",
    "data = DataResidualArray(AET[0], f_arr=freqs)\n",
    "sens_mat = AET1SensitivityMatrix(data.f_arr)\n",
    "analysis = AnalysisContainer(data, sens_mat, signal_gen=wrap)\n",
    "analysis.snr()"
   ]
  },
  {
   "cell_type": "markdown",
   "metadata": {},
   "source": [
    "Calculate the Likelihood using `calculate_signal_likelihood`. "
   ]
  },
  {
   "cell_type": "code",
   "execution_count": null,
   "metadata": {},
   "outputs": [],
   "source": [
    "使用calculate_signal_likelihood计算似然值"
   ]
  },
  {
   "cell_type": "code",
   "execution_count": null,
   "metadata": {},
   "outputs": [],
   "source": [
    "analysis.calculate_signal_likelihood(\n",
    "    m1 * 1.0001,\n",
    "    m2, \n",
    "    chi1,\n",
    "    chi2,\n",
    "    dist, \n",
    "    phi_refer,\n",
    "    f_refer, \n",
    "    inc,\n",
    "    lam,\n",
    "    beta,\n",
    "    psi,\n",
    "    t_refer,\n",
    "    waveform_kwargs=dict(\n",
    "        length=1024, \n",
    "        combine=False,  \n",
    "        direct=False,\n",
    "        fill=True,\n",
    "        squeeze=True,\n",
    "        freqs=freqs\n",
    "    ),\n",
    "    source_only=True\n",
    "\n",
    ")"
   ]
  },
  {
   "cell_type": "markdown",
   "metadata": {},
   "source": [
    "## Task 4: MCMC with MBHBs"
   ]
  },
  {
   "cell_type": "markdown",
   "metadata": {},
   "source": [
    "Now we will run an MCMC for MBHBs. Use your knowledge from our tutorial on `Eryn` to run an MCMC for MBHBs. Let's run it for over four parameters: `(m1, m2, phi_ref, t_ref)`. You can use an `Eryn` [TransformContainer](https://mikekatz04.github.io/Eryn/html/user/utils.html#transformcontainer) or a wrapper Likelihood to fill in fixed parameters. You can use the `periodic` kwarg for `EnsembleSampler` to run `phi_ref` as a periodic variable wrapping over the edge.\n",
    "\n",
    "This will not be fast. Run the sampler for a small number of samples and move on to the next step. "
   ]
  },
  {
   "cell_type": "code",
   "execution_count": null,
   "metadata": {},
   "outputs": [],
   "source": [
    "任务4：关于大质量黑洞双星系统（MBHBs）的马尔科夫蒙特卡洛方法（MCMC）\n",
    "  现在我们将运行关于MBHB的MCMC程序。应用你之前在教程中学到的关于Eryn的知识来建立一个关于MBHB的MCMC程序。让我们用四个参数来设置它  \n",
    "(m1, m2, phi_ref, t_ref)。你可以使用Eryn TransformContainer或包装似然来填写固定参数。你可以使用EnsembleSampler的periodic来运行\n",
    "phi_ref，使其作为一个在边界上环绕的周期变量。\n",
    "  这个过程不会很快。在小规模样本的情况下运行采样器并跳转到下一步。"
   ]
  },
  {
   "cell_type": "code",
   "execution_count": null,
   "metadata": {},
   "outputs": [],
   "source": [
    "# imports\n",
    "from eryn.ensemble import EnsembleSampler\n",
    "from eryn.prior import ProbDistContainer, uniform_dist\n",
    "from eryn.state import State"
   ]
  },
  {
   "cell_type": "code",
   "execution_count": null,
   "metadata": {},
   "outputs": [],
   "source": [
    "def wrapper_likelihood(x, fixed_parameters, freqs, analysis, **kwargs):\n",
    "    all_parameters = np.zeros(12)\n",
    "    mT = x[0]\n",
    "    q = x[1]\n",
    "    all_parameters[0] = mT / (1 + q)\n",
    "    all_parameters[1] = mT * q / (1 + q)\n",
    "    all_parameters[5] = x[2]\n",
    "    all_parameters[-1] = x[3]\n",
    "\n",
    "    all_parameters[np.array([2, 3, 4, 6, 7, 8, 9, 10])] = fixed_parameters\n",
    "\n",
    "    ll = analysis.calculate_signal_likelihood(\n",
    "        *all_parameters,\n",
    "        waveform_kwargs=dict(\n",
    "            length=1024, \n",
    "            combine=False,  # TODO: check this\n",
    "            direct=False,\n",
    "            fill=True,\n",
    "            squeeze=True,\n",
    "            freqs=freqs\n",
    "        ),\n",
    "        source_only=True\n",
    "        # data_arr_kwargs=dict(f_arr=freqs)\n",
    "    )\n",
    "    return ll"
   ]
  },
  {
   "cell_type": "markdown",
   "metadata": {},
   "source": [
    "## Task 5: Add heterodyning for speed"
   ]
  },
  {
   "cell_type": "markdown",
   "metadata": {},
   "source": [
    "That would take a long time to complete a sampling run. One technique for speeding up waveforms is called `heterodyning`. Wrap the Heterodyned likelihood to use a subset of parameters. You can also use an Eryn `TransformFunction`. \n",
    "\n",
    "Useful Documentation:\n",
    "\n",
    "* [HeterodynedLikelihood](https://mikekatz04.github.io/BBHx/html/user/like.html#bbhx.likelihood.HeterodynedLikelihood)"
   ]
  },
  {
   "cell_type": "code",
   "execution_count": null,
   "metadata": {},
   "outputs": [],
   "source": [
    "任务5：添加速率的混频\n",
    "  完成采样器的运行可能花费很长时间。有一种叫做混频的技术可以加速波形产生。包装混频似然值可以达到使用参数子集的目的。你也可以使用Eryn中的TransformFunction"
   ]
  },
  {
   "cell_type": "code",
   "execution_count": null,
   "metadata": {},
   "outputs": [],
   "source": [
    "\n",
    "from bbhx.likelihood import HeterodynedLikelihood\n",
    "length_f_het = 128\n",
    "\n",
    "mT = injection_params[0]\n",
    "q = injection_params[1]\n",
    "\n",
    "transformed_injection_params = injection_params.copy()\n",
    "transformed_injection_params[0] = mT / (1 + q)\n",
    "transformed_injection_params[1] = mT * q / (1 + q)\n",
    "\n",
    "like_het = HeterodynedLikelihood(\n",
    "    tdi_wave_gen,\n",
    "    freqs,\n",
    "    data[:],\n",
    "    transformed_injection_params,\n",
    "    length_f_het,\n",
    ")\n",
    "\n",
    "like_het.get_ll(transformed_injection_params[None, :].T)\n",
    "array([-0.00275878])\n",
    "def het_wrapper_likelihood(x, fixed_parameters, freqs, het_like):\n",
    "    all_parameters = np.zeros(12)\n",
    "    mT = x[0]\n",
    "    q = x[1]\n",
    "    all_parameters[0] = mT / (1 + q)\n",
    "    all_parameters[1] = mT * q / (1 + q)\n",
    "\n",
    "    # \n",
    "    all_parameters[5] = x[2]\n",
    "    all_parameters[-1] = x[3]\n",
    "\n",
    "    all_parameters[np.array([2, 3, 4, 6, 7, 8, 9, 10])] = fixed_parameters\n",
    "\n",
    "    ll = like_het.get_ll(all_parameters)\n",
    "    return ll\n",
    "ll_comp = wrapper_likelihood(injection_params[np.array([0, 1, 5, 11])], fixed_parameters, freqs, analysis)\n",
    "ll_het = het_wrapper_likelihood(injection_params[np.array([0, 1, 5, 11])], fixed_parameters, freqs, like_het)\n",
    "print(ll_het, ll_comp)\n",
    "nwalkers = 32\n",
    "het_sampler = EnsembleSampler(\n",
    "    nwalkers,\n",
    "    ndims,\n",
    "    het_wrapper_likelihood,\n",
    "    priors,\n",
    "    args=(fixed_parameters, freqs, like_het),\n",
    "    branch_names=[\"mbh\"],\n",
    "    tempering_kwargs=dict(ntemps=ntemps),\n",
    "    periodic=periodic\n",
    ")\n",
    "fig = c.plotter.plot()"
   ]
  },
  {
   "cell_type": "markdown",
   "metadata": {},
   "source": [
    "Let's check how well the heterodyning method matches the base likelihood by sampling our prior. You will have to update the reference template for each computation since we are drawing from the prior and may be far away from our true point. You can do this with `HeterodynedLikelihood.init_heterdyne_info`. "
   ]
  },
  {
   "cell_type": "code",
   "execution_count": null,
   "metadata": {},
   "outputs": [],
   "source": [
    "  让我们查看一下使用混频方法通过采集先验分布得到的结果与基似然值匹配的如何。你需要更新每一次计算的参考模板，因为我们抽离了先验分布从而可能\n",
    "与真实值差距很远。你可以使用HeterodynedLikelihood.init_heterdyne_info 完成这项任务"
   ]
  },
  {
   "cell_type": "code",
   "execution_count": null,
   "metadata": {
    "scrolled": true
   },
   "outputs": [],
   "source": [
    "num = 10\n",
    "for params in priors[\"mbh\"].rvs(num):\n",
    "    update_params = injection_params.copy()\n",
    "    mT = params[0]\n",
    "    q = params[1]\n",
    "    m1 = mT / (1 + q)\n",
    "    m2 = mT * q / (1 + q)\n",
    "    update_params[np.array([0, 1, 5, 11])] = np.array([m1, m2, params[2], params[3]])\n",
    "    like_het.init_heterodyne_info(\n",
    "        update_params\n",
    "    )\n",
    "    ll_comp = wrapper_likelihood(params, fixed_parameters, freqs, analysis)\n",
    "    ll_het = het_wrapper_likelihood(params, fixed_parameters, freqs, like_het)\n",
    "    print(ll_comp, ll_het, np.abs(ll_comp - ll_het), np.abs(ll_comp - ll_het) / np.abs(ll_comp))"
   ]
  },
  {
   "cell_type": "markdown",
   "metadata": {},
   "source": [
    "Setup and run the sampler. Then plot the posteriors using `ChainConsumer` or `corner`."
   ]
  },
  {
   "cell_type": "code",
   "execution_count": null,
   "metadata": {},
   "outputs": [],
   "source": [
    "  设定好并运行采样器。然后用ChainConsumer或corner绘制出后验分布"
   ]
  },
  {
   "cell_type": "code",
   "execution_count": null,
   "metadata": {},
   "outputs": [],
   "source": [
    "\n",
    "def log_prob(params):\n",
    "    update_params = injection_params.copy()\n",
    "    mT = params[0]\n",
    "    q = params[1]\n",
    "    m1 = mT / (1 + q)\n",
    "    m2 = mT * q / (1 + q)\n",
    "    update_params[np.array([0, 1, 5, 11])] = np.array([m1, m2, params[2], params[3]])\n",
    "    like_het.init_heterodyne_info(update_params)\n",
    "    ll_comp = wrapper_likelihood(params, fixed_parameters, freqs, analysis)\n",
    "    ll_het = het_wrapper_likelihood(params, fixed_parameters, freqs, like_het)\n",
    "    return ll_comp + ll_het\n",
    "\n",
    "\n",
    "nwalkers = 100\n",
    "ndim = 4 \n",
    "sampler = emcee.EnsembleSampler(nwalkers, ndim, log_prob)\n",
    "\n",
    "space\n",
    "p0 = priors[\"mbh\"].rvs(size=nwalkers)\n",
    "\n",
    "\n",
    "nsteps = 1000  \n",
    "pos, prob, _ = sampler.run_mcmc(p0, nsteps)\n",
    "\n",
    "\n",
    "samples = sampler.get_chain(flat=True)\n",
    "log_prob_samples = sampler.get_log_prob(flat=True)\n",
    "\n",
    "\n",
    "c = ChainConsumer()\n",
    "labels = [\"mT\", \"q\", \"param1\", \"param2\"]\n",
    "c.add_chain(samples, parameters=labels, name=\"Posterior\")\n",
    "c.configure(summary=True)\n",
    "fig = c.plotter.plot()\n",
    "\n"
   ]
  },
  {
   "cell_type": "markdown",
   "metadata": {},
   "source": [
    "总结与收获\n",
    "  这一章依旧涉及MCMC，让我还没有摆脱前一张云里雾里的感觉，但是好歹应用实例更多了一些，这回分析了黑洞双星，这样能让我对这种方法更有感觉。\n",
    "  令我印象深刻的是后面使用的混频技术，通过混频能将信号转移到更低的频率范围，从而减小信号处理所需的计算量。通过降低信号的频率，可以在更低的采样率下进行处理，从而提高处理速度。理解这些只需要基于基本的奈奎斯特抽样定理，这不由得让我觉得这一思想无比精妙。\n",
    "  "
   ]
  }
 ],
 "metadata": {
  "kernelspec": {
   "display_name": "Python 3",
   "language": "python",
   "name": "python3"
  },
  "language_info": {
   "codemirror_mode": {
    "name": "ipython",
    "version": 3
   },
   "file_extension": ".py",
   "mimetype": "text/x-python",
   "name": "python",
   "nbconvert_exporter": "python",
   "pygments_lexer": "ipython3",
   "version": "3.7.0"
  }
 },
 "nbformat": 4,
 "nbformat_minor": 5
}
