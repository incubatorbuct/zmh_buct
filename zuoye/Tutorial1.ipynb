{
 "cells": [
  {
   "cell_type": "markdown",
   "metadata": {},
   "source": [
    "# LAT Workshop Tutorial #1: Sensitivity Curves, SNR, Inner Products, Likelihoods"
   ]
  },
  {
   "cell_type": "markdown",
   "metadata": {},
   "source": [
    "张铭昊 北京化工大学 zmh780674484@163.com"
   ]
  },
  {
   "cell_type": "code",
   "execution_count": null,
   "metadata": {},
   "outputs": [],
   "source": [
    "LISA数据分析工具研讨会（LAT）教程1：灵敏度曲线，信噪比，内积，似然值"
   ]
  },
  {
   "cell_type": "code",
   "execution_count": null,
   "metadata": {},
   "outputs": [],
   "source": [
    "import numpy as np\n",
    "import matplotlib.pyplot as plt\n",
    "%matplotlib inline\n",
    "from lisatools.utils.constants import *\n",
    "from copy import deepcopy  # can be useful"
   ]
  },
  {
   "cell_type": "markdown",
   "metadata": {},
   "source": [
    "In the first tutorial, we will learn how to use `lisatools` to generate sensitivity curves for LISA. With this information, we will then compute inner products, signal-to-noise ratios (SNR), and Likelihoods for a basic set of sources. "
   ]
  },
  {
   "cell_type": "code",
   "execution_count": null,
   "metadata": {},
   "outputs": [],
   "source": [
    "在第一个教程中，我们将学习如何使用lisatools来产生LISA数据的灵敏度曲线。有了这些后，我们可以计算一个基本数据集合的内积，信噪比和似然值。"
   ]
  },
  {
   "cell_type": "markdown",
   "metadata": {},
   "source": [
    "## Task 1: Plotting and comparing sensitivity curves."
   ]
  },
  {
   "cell_type": "raw",
   "metadata": {},
   "source": [
    "任务1：绘制与比较灵敏度曲线"
   ]
  },
  {
   "cell_type": "markdown",
   "metadata": {},
   "source": [
    "Calculate and plot the **sky-averaged** LISA sensitivity function ([LISASens](https://mikekatz04.github.io/LISAanalysistools/build/html/user/sensitivity.html#lisatools.sensitivity.LISASens)) in the characteristic strain representation. Compare the **model** used for the LDC2A (or Sangria) dataset to the Science Requirements Document version for the sensitivity curves (`scirdv1`).\n",
    "\n",
    "Useful documentation:\n",
    "* [get_available_default_lisa_models](https://mikekatz04.github.io/LISAanalysistools/build/html/user/main.html#lisatools.detector.get_available_default_lisa_models)\n",
    "* [get_stock_sensitivity_options](https://mikekatz04.github.io/LISAanalysistools/build/html/user/sensitivity.html#lisatools.sensitivity.get_stock_sensitivity_options)\n",
    "* [get_sensitivity](https://mikekatz04.github.io/LISAanalysistools/build/html/user/sensitivity.html#lisatools.sensitivity.get_sensitivity)\n",
    "* [LISASens](https://mikekatz04.github.io/LISAanalysistools/build/html/user/sensitivity.html#lisatools.sensitivity.LISASens)"
   ]
  },
  {
   "cell_type": "code",
   "execution_count": null,
   "metadata": {},
   "outputs": [],
   "source": [
    "计算并绘制用特征应变表示的天区平均的LISA灵敏度函数。用LDC2A(或Sangria)使用的模型数据集与科学需求文件给出的数据对应的灵敏度曲线相比较。\n",
    "有用的文件："
   ]
  },
  {
   "cell_type": "code",
   "execution_count": null,
   "metadata": {},
   "outputs": [],
   "source": [
    "# useful imports\n",
    "from lisatools.sensitivity import LISASens, get_sensitivity, get_stock_sensitivity_options\n",
    "import lisatools.detector as lisa_models"
   ]
  },
  {
   "cell_type": "code",
   "execution_count": null,
   "metadata": {},
   "outputs": [],
   "source": [
    "get_stock_sensitivity_options()"
   ]
  },
  {
   "cell_type": "code",
   "execution_count": 3,
   "metadata": {},
   "outputs": [
    {
     "ename": "SyntaxError",
     "evalue": "invalid syntax (<ipython-input-3-c51bf2e60d24>, line 29)",
     "output_type": "error",
     "traceback": [
      "\u001b[1;36m  File \u001b[1;32m\"<ipython-input-3-c51bf2e60d24>\"\u001b[1;36m, line \u001b[1;32m29\u001b[0m\n\u001b[1;33m    <matplotlib.legend.Legend at 0x14d371490>\u001b[0m\n\u001b[1;37m    ^\u001b[0m\n\u001b[1;31mSyntaxError\u001b[0m\u001b[1;31m:\u001b[0m invalid syntax\n"
     ]
    }
   ],
   "source": [
    "# useful imports\n",
    "from lisatools.sensitivity import LISASens, get_sensitivity, get_stock_sensitivity_options\n",
    "import lisatools.detector as lisa_models\n",
    "get_stock_sensitivity_options()\n",
    "['X1TDISens',\n",
    " 'Y1TDISens',\n",
    " 'Z1TDISens',\n",
    " 'XY1TDISens',\n",
    " 'YZ1TDISens',\n",
    " 'ZX1TDISens',\n",
    " 'X2TDISens',\n",
    " 'Y2TDISens',\n",
    " 'Z2TDISens',\n",
    " 'LISASens',\n",
    " 'CornishLISASens',\n",
    " 'FlatPSDFunction']\n",
    "f = np.logspace(-5, -1, 10000)\n",
    "Sn = get_sensitivity(f, sens_fn=LISASens, average=True, model=lisa_models.sangria, return_type='char_strain')\n",
    "\n",
    "plt.loglog(f, Sn, label=\"sang\")\n",
    "\n",
    "Sn = get_sensitivity(f, sens_fn=LISASens, average=True, model=lisa_models.scirdv1, return_type='char_strain')\n",
    "plt.legend()\n",
    "plt.loglog(f, Sn, label=\"sci1\")\n",
    "\n",
    "<matplotlib.legend.Legend at 0x14d371490>\n"
   ]
  },
  {
   "cell_type": "markdown",
   "metadata": {},
   "source": [
    "### Question 1"
   ]
  },
  {
   "cell_type": "markdown",
   "metadata": {},
   "source": [
    "How do you expect the difference in sensitivity curve models to affect LISA observations? Consider what higher noise at lower or high frequencies will do to our different source classes. "
   ]
  },
  {
   "cell_type": "code",
   "execution_count": null,
   "metadata": {},
   "outputs": [],
   "source": [
    "问题1\n",
    "你认为灵敏度曲线模型的差异将如何影响LISA的观测？考虑更低频或高频的大幅度噪声将对不同的源类型数据产生什么影响。"
   ]
  },
  {
   "cell_type": "markdown",
   "metadata": {},
   "source": [
    "### Question 2"
   ]
  },
  {
   "cell_type": "markdown",
   "metadata": {},
   "source": [
    "We have asked you to compute the sky-averaged sensitivity curves. What does that mean? Can you determine, without looking at the documentation what the total sky-averaging factor is?"
   ]
  },
  {
   "cell_type": "code",
   "execution_count": null,
   "metadata": {},
   "outputs": [],
   "source": [
    "问题2\n",
    "我们要求你计算了天区平均灵敏度曲线，那有什么含义？不查阅文献，你能确定总的天区平均值是多少吗？"
   ]
  },
  {
   "cell_type": "code",
   "execution_count": 4,
   "metadata": {},
   "outputs": [
    {
     "ename": "NameError",
     "evalue": "name 'get_sensitivity' is not defined",
     "output_type": "error",
     "traceback": [
      "\u001b[1;31m---------------------------------------------------------------------------\u001b[0m",
      "\u001b[1;31mNameError\u001b[0m                                 Traceback (most recent call last)",
      "\u001b[1;32m<ipython-input-4-b85ea2d5240b>\u001b[0m in \u001b[0;36m<module>\u001b[1;34m()\u001b[0m\n\u001b[1;32m----> 1\u001b[1;33m \u001b[0mSn_averaged\u001b[0m \u001b[1;33m=\u001b[0m \u001b[0mget_sensitivity\u001b[0m\u001b[1;33m(\u001b[0m\u001b[0mf\u001b[0m\u001b[1;33m,\u001b[0m \u001b[0msens_fn\u001b[0m\u001b[1;33m=\u001b[0m\u001b[0mLISASens\u001b[0m\u001b[1;33m,\u001b[0m \u001b[0mmodel\u001b[0m\u001b[1;33m=\u001b[0m\u001b[0mlisa_models\u001b[0m\u001b[1;33m.\u001b[0m\u001b[0msangria\u001b[0m\u001b[1;33m,\u001b[0m \u001b[0maverage\u001b[0m\u001b[1;33m=\u001b[0m\u001b[1;32mTrue\u001b[0m\u001b[1;33m,\u001b[0m \u001b[0mreturn_type\u001b[0m\u001b[1;33m=\u001b[0m\u001b[1;34m\"char_strain\"\u001b[0m\u001b[1;33m)\u001b[0m\u001b[1;33m\u001b[0m\u001b[0m\n\u001b[0m\u001b[0;32m      2\u001b[0m \u001b[0mSn\u001b[0m \u001b[1;33m=\u001b[0m \u001b[0mget_sensitivity\u001b[0m\u001b[1;33m(\u001b[0m\u001b[0mf\u001b[0m\u001b[1;33m,\u001b[0m \u001b[0msens_fn\u001b[0m\u001b[1;33m=\u001b[0m\u001b[0mLISASens\u001b[0m\u001b[1;33m,\u001b[0m \u001b[0mmodel\u001b[0m\u001b[1;33m=\u001b[0m\u001b[0mlisa_models\u001b[0m\u001b[1;33m.\u001b[0m\u001b[0msangria\u001b[0m\u001b[1;33m,\u001b[0m \u001b[0maverage\u001b[0m\u001b[1;33m=\u001b[0m\u001b[1;32mFalse\u001b[0m\u001b[1;33m,\u001b[0m \u001b[0mreturn_type\u001b[0m\u001b[1;33m=\u001b[0m\u001b[1;34m\"char_strain\"\u001b[0m\u001b[1;33m)\u001b[0m\u001b[1;33m\u001b[0m\u001b[0m\n\u001b[0;32m      3\u001b[0m \u001b[1;33m\u001b[0m\u001b[0m\n\u001b[0;32m      4\u001b[0m \u001b[0mprint\u001b[0m\u001b[1;33m(\u001b[0m\u001b[0mSn_averaged\u001b[0m \u001b[1;33m/\u001b[0m \u001b[0mSn\u001b[0m\u001b[1;33m)\u001b[0m\u001b[1;33m\u001b[0m\u001b[0m\n",
      "\u001b[1;31mNameError\u001b[0m: name 'get_sensitivity' is not defined"
     ]
    }
   ],
   "source": [
    "Sn_averaged = get_sensitivity(f, sens_fn=LISASens, model=lisa_models.sangria, average=True, return_type=\"char_strain\")\n",
    "Sn = get_sensitivity(f, sens_fn=LISASens, model=lisa_models.sangria, average=False, return_type=\"char_strain\")\n",
    "\n",
    "print(Sn_averaged / Sn)"
   ]
  },
  {
   "cell_type": "markdown",
   "metadata": {},
   "source": [
    "Now we are going to put our sensitivity information into a [SensitivityMatrix](https://mikekatz04.github.io/LISAanalysistools/build/html/user/sensitivity.html#lisatools.sensitivity.SensitivityMatrix). Build a two-channel (with no cross-channels) sensitivity matrix where both channels' sensitivity are governed by the [LISASens](https://mikekatz04.github.io/LISAanalysistools/build/html/user/sensitivity.html#lisatools.sensitivity.LISASens) sensitivituy function.\n",
    "\n",
    "Useful documentation:\n",
    "* [SensitivityMatrix](https://mikekatz04.github.io/LISAanalysistools/build/html/user/sensitivity.html#lisatools.sensitivity.SensitivityMatrix)\n",
    "\n",
    "We will add one extra useful piece of information into here: an estimated Galactic foreground noise to include in the sensitivity. This is important when performing LISA data analysis.\n",
    "\n",
    "The default foreground function is [](). It takes one parameter: observation time in seconds. Use the documentation of the sensitivity function and the stochastic function to determine how to pass this information with the abstracted setup in `lisatools`. \n",
    "\n",
    "Useful documentation:\n",
    "* [LISASens](https://mikekatz04.github.io/LISAanalysistools/build/html/user/sensitivity.html#lisatools.sensitivity.LISASens)\n",
    "* [FittedHyperbolicTangentGalacticForeground](https://mikekatz04.github.io/LISAanalysistools/build/html/user/stochastic.html#lisatools.stochastic.FittedHyperbolicTangentGalacticForeground)"
   ]
  },
  {
   "cell_type": "code",
   "execution_count": null,
   "metadata": {},
   "outputs": [],
   "source": [
    "现在我们正在将我们的灵敏度信息加载到SensitivityMatrix中。建立一个二通道（没有交叉通道）的灵敏度矩阵，在这个矩阵中，所有通道的灵敏度都由LISA的灵敏度函数决定。\n",
    "有用的文档：\n",
    "SensitivityMatrix\n",
    "在此添加一条额外的有用信息：包含于灵敏度的银河系前景噪声的估计值。这在进行LISA数据分析时非常有用。\n",
    "默认的前景噪声函数在此。它有一个变量：以秒为单位的观测时间。用该前景函数文件以及随机函数来确定如何用lisatools中分离的系统传递这些信息。\n",
    "有用的文档：\n",
    "LISASens\n",
    "FittedHyperbolicTangentGalacticForeground"
   ]
  },
  {
   "cell_type": "code",
   "execution_count": null,
   "metadata": {},
   "outputs": [],
   "source": [
    "# imports\n",
    "from lisatools.sensitivity import SensitivityMatrix, LISASens"
   ]
  },
  {
   "cell_type": "code",
   "execution_count": null,
   "metadata": {},
   "outputs": [],
   "source": [
    "from lisatools.sensitivity import SensitivityMatrix, LISASens, A1TDISens\n",
    "sens_kwargs = dict(\n",
    "    stochastic_params=(1.0 * YRSID_SI,)\n",
    ")\n",
    "\n",
    "sens_mat = SensitivityMatrix(f, [A1TDISens, A1TDISens], **sens_kwargs)\n"
   ]
  },
  {
   "cell_type": "markdown",
   "metadata": {},
   "source": [
    "Plot it with the [loglog](https://mikekatz04.github.io/LISAanalysistools/build/html/user/sensitivity.html#lisatools.sensitivity.SensitivityMatrix.loglog) method of the matrix."
   ]
  },
  {
   "cell_type": "code",
   "execution_count": null,
   "metadata": {},
   "outputs": [],
   "source": [
    "用矩阵loglog方法绘制"
   ]
  },
  {
   "cell_type": "code",
   "execution_count": null,
   "metadata": {},
   "outputs": [],
   "source": [
    "sens_mat.loglog()"
   ]
  },
  {
   "cell_type": "markdown",
   "metadata": {},
   "source": [
    "Compare the noise curve with and without foreground confusion noise. And then compare the foreground noise at two different values of the observation time. \n",
    "\n",
    "Useful documentation:\n",
    "* [update_stochastic](https://mikekatz04.github.io/LISAanalysistools/build/html/user/sensitivity.html#lisatools.sensitivity.SensitivityMatrix.update_stochastic)"
   ]
  },
  {
   "cell_type": "code",
   "execution_count": null,
   "metadata": {},
   "outputs": [],
   "source": [
    "比较有前景噪声干扰的噪声曲线与没有前景噪声干扰的噪声曲线。然后比较两个不同观测时间下的前景噪声。\n",
    "有用的文档：\n",
    "update_stochastic"
   ]
  },
  {
   "cell_type": "code",
   "execution_count": null,
   "metadata": {},
   "outputs": [],
   "source": [
    "sens_mat_nocon= deepcopy(sens_mat)\n",
    "sens_mat_nocon.update_stochastic(stochastic_params=None)\n",
    "\n",
    "sens_mat_2_yrs = deepcopy(sens_mat)\n",
    "sens_mat_2_yrs.update_stochastic(stochastic_params=(1 * Year,))\n",
    "\n",
    "sens_mat_6_yrs = deepcopy(sens_mat)\n",
    "sens_mat_6_yrs.update_stochastic(stochastic_params=(4 * Year,))\n",
    "\n",
    "fig, ax = sens_mat_no_confusion.loglog(label=\"ideal\")\n",
    "\n",
    "sens_mat_2_yrs.loglog(fig=fig, ax=ax, label=\"2 yrs\")\n",
    "sens_mat_6_yrs.loglog(fig=fig, ax=ax, label=\"6 yrs\")\n",
    "ax[0].legend()"
   ]
  },
  {
   "cell_type": "markdown",
   "metadata": {},
   "source": [
    "### Question"
   ]
  },
  {
   "cell_type": "markdown",
   "metadata": {},
   "source": [
    "Why does the foreground confusion change over time? What are the broader implications of this on our analysis?"
   ]
  },
  {
   "cell_type": "code",
   "execution_count": null,
   "metadata": {},
   "outputs": [],
   "source": [
    "问题\n",
    "为什么前景噪声干扰随着时间变化？分析结果中蕴含的更加广泛的结论是什么？"
   ]
  },
  {
   "cell_type": "markdown",
   "metadata": {},
   "source": [
    "### Task 2: Build a DataResArray to house and plot data information."
   ]
  },
  {
   "cell_type": "markdown",
   "metadata": {},
   "source": [
    "We are going to build a sinusoidal signal for us to do some computations with. We will store it in a [DataResArray](https://mikekatz04.github.io/LISAanalysistools/build/html/user/datacontainer.html#lisatools.datacontainer.DataResidualArray). Build a sinusoidal signal with 4 parameters: $A$ (amplitude), $f_0$ (frequency), $\\dot{f}_0$ (frequency derivative), and $\\phi_0$ (initial phase):\n",
    "\n",
    "$$ h_1(t) = A\\sin{\\left(2\\pi (f_0 t + \\frac{1}{2}\\dot{f}_0t^2) + \\phi_0\\right)} $$\n",
    "$$ h_2(t) = A\\cos{\\left(2\\pi (f_0 t + \\frac{1}{2}\\dot{f}_0t^2) + \\phi_0\\right)} $$\n",
    "\n",
    "Pick your parameters. Use a reasonable timestep ($\\sim10$s) and observation time ($\\sim$yr) for LISA. Plot $h_1$ and $h_2$. "
   ]
  },
  {
   "cell_type": "code",
   "execution_count": null,
   "metadata": {},
   "outputs": [],
   "source": [
    "任务2：建立一个数据数组来储存与绘制数据的信息\n",
    "我们现在要建立一个正弦信号来做相关的计算。我们将把它存储在一个数据数组里。用4个参数建立一个正弦信号：A(幅度)，f0(频率)，f˙0（频率对时间导数）以及ϕ0\n",
    "  (初相)\n",
    " "
   ]
  },
  {
   "cell_type": "code",
   "execution_count": null,
   "metadata": {},
   "outputs": [],
   "source": [
    "h1(t)=Asin(2π(f0t+12f˙0t2)+ϕ0)\n",
    " \n",
    "h2(t)=Acos(2π(f0t+12f˙0t2)+ϕ0)"
   ]
  },
  {
   "cell_type": "code",
   "execution_count": null,
   "metadata": {},
   "outputs": [],
   "source": [
    "dt = 10.0\n",
    "Tobs = YRSID_SI\n",
    "Nobs = int(Tobs / dt)\n",
    "t = np.arange(Nobs) * dt\n",
    "A = 1e-19\n",
    "f0 = 3e-2\n",
    "fdot = 1e-6\n",
    "phi0 = 3.5\n",
    "\n",
    "h1 = A * np.sin(2 * np.pi * (f0 * t + 1/2 * fdot * t ** 2) + phi0)\n",
    "h2 = A * np.cos(2 * np.pi * (f0 * t + 1/2 * fdot * t ** 2) + phi0)\n",
    "plt.plot(t, h1, label=\"h1\")\n",
    "plt.plot(t, h2, label=\"h2\")\n",
    "plt.xlim(t[-1] - 2000.0, t[-1])"
   ]
  },
  {
   "cell_type": "markdown",
   "metadata": {},
   "source": [
    "Now we will add our two channels (h1, h2) into a `DataResArray`. \n",
    "\n",
    "Useful Documentation:\n",
    "* [DataResidualArray](https://mikekatz04.github.io/LISAanalysistools/build/html/user/datacontainer.html#lisatools.datacontainer.DataResidualArray)"
   ]
  },
  {
   "cell_type": "code",
   "execution_count": null,
   "metadata": {},
   "outputs": [],
   "source": [
    "现在我们把这两个通道(h1,h2)放进一个数据数组\n",
    "有用的文档：\n",
    "DataResidualArray"
   ]
  },
  {
   "cell_type": "code",
   "execution_count": null,
   "metadata": {},
   "outputs": [],
   "source": [
    "# useful imports\n",
    "from lisatools.datacontainer import DataResidualArray"
   ]
  },
  {
   "cell_type": "code",
   "execution_count": null,
   "metadata": {},
   "outputs": [],
   "source": [
    "data_res_arr = DataResidualArray([h1, h2], dt=dt)\n",
    "/Users/mlkatz1/miniconda3/envs/lisa_env/lib/python3.12/site-packages/numpy/fft/_pocketfft.py:70: ComplexWarning: Casting complex values to real discards the imaginary part\n",
    "  r = pfi.execute(a, is_real, is_forward, fct)"
   ]
  },
  {
   "cell_type": "markdown",
   "metadata": {},
   "source": [
    "Plot the signals with the data residual array plotting functions.\n",
    "\n",
    "Useful documentation:\n",
    "* [loglog](https://mikekatz04.github.io/LISAanalysistools/build/html/user/datacontainer.html#lisatools.datacontainer.DataResidualArray.loglog)"
   ]
  },
  {
   "cell_type": "code",
   "execution_count": null,
   "metadata": {},
   "outputs": [],
   "source": [
    "使用数据残差功能绘制信号\n",
    "有用的文档：\n",
    "loglog"
   ]
  },
  {
   "cell_type": "code",
   "execution_count": null,
   "metadata": {},
   "outputs": [],
   "source": [
    "fig, ax = data_res_arr.loglog()"
   ]
  },
  {
   "cell_type": "markdown",
   "metadata": {},
   "source": [
    "### Question 3"
   ]
  },
  {
   "cell_type": "markdown",
   "metadata": {},
   "source": [
    "When you put in the time-domain signal from above, the `DataResidualArray` class transforms it under the hood. Looking at the output from above, what transform did it do?\n",
    "\n",
    "Let's take the FFT of our input time-domain dataset with numpy (`np.fft.rfft`) and add this to the above plot. "
   ]
  },
  {
   "cell_type": "code",
   "execution_count": null,
   "metadata": {},
   "outputs": [],
   "source": [
    "问题3\n",
    "当你输入上面的时域变化的信号时，数据残差列对它们进行了变换。根据对应的输出判断，它们被做了什么变换？\n",
    "让我们用numpy（np.fft.rfft）对输入的时域数据集进行快速傅里叶变换并将其添加到上图中。"
   ]
  },
  {
   "cell_type": "code",
   "execution_count": null,
   "metadata": {},
   "outputs": [],
   "source": [
    "fig, ax = data_res_arr.loglog()\n",
    "h1_f = np.abs(np.fft.rfft(h1))\n",
    "h2_f = np.abs(np.fft.rfft(h2))\n",
    "ax[0].loglog(data_res_arr.f_arr, h1_f)\n",
    "ax[1].loglog(data_res_arr.f_arr, h2_f)"
   ]
  },
  {
   "cell_type": "markdown",
   "metadata": {},
   "source": [
    "What is the factor difference between the FFT we did and the frequency-domain spectra stored in our `DataResidualArray`? Where does this term come frome and why is it there? (this is a small detail that is always easy to forget)"
   ]
  },
  {
   "cell_type": "code",
   "execution_count": null,
   "metadata": {},
   "outputs": [],
   "source": [
    "我们所做的快速傅里叶变换的结果与储存在数据残差列中的频谱有什么实质区别？这一区别从何而来，又为什么会产生？（这是一个经常被忘记的细节）"
   ]
  },
  {
   "cell_type": "code",
   "execution_count": 5,
   "metadata": {},
   "outputs": [
    {
     "ename": "NameError",
     "evalue": "name 'np' is not defined",
     "output_type": "error",
     "traceback": [
      "\u001b[1;31m---------------------------------------------------------------------------\u001b[0m",
      "\u001b[1;31mNameError\u001b[0m                                 Traceback (most recent call last)",
      "\u001b[1;32m<ipython-input-5-be31e7b3d7f2>\u001b[0m in \u001b[0;36m<module>\u001b[1;34m()\u001b[0m\n\u001b[1;32m----> 1\u001b[1;33m \u001b[0mnp\u001b[0m\u001b[1;33m.\u001b[0m\u001b[0mabs\u001b[0m\u001b[1;33m(\u001b[0m\u001b[0mdata_res_arr\u001b[0m\u001b[1;33m[\u001b[0m\u001b[1;36m0\u001b[0m\u001b[1;33m]\u001b[0m\u001b[1;33m)\u001b[0m \u001b[1;33m/\u001b[0m \u001b[0mh1_f\u001b[0m\u001b[1;33m\u001b[0m\u001b[0m\n\u001b[0m",
      "\u001b[1;31mNameError\u001b[0m: name 'np' is not defined"
     ]
    }
   ],
   "source": [
    "np.abs(data_res_arr[0]) / h1_f\n"
   ]
  },
  {
   "cell_type": "markdown",
   "metadata": {},
   "source": [
    "## Task 3: Combine into an `AnalysisContainer`."
   ]
  },
  {
   "cell_type": "code",
   "execution_count": null,
   "metadata": {},
   "outputs": [],
   "source": [
    "任务3：合并为一个AnalysisContainer."
   ]
  },
  {
   "cell_type": "markdown",
   "metadata": {},
   "source": [
    "Now we will use our data and sensitivity information and combine it into an [AnalysisContainer](https://mikekatz04.github.io/LISAanalysistools/build/html/user/datacontainer.html#analysis-container) object. This object helps streamline the analysis by working under the hood properly with different data and sensitivity matrices.\n",
    "\n",
    "Plot the new setup with both the data and sensitivity information. We will do computations with this object a little later. \n",
    "\n",
    "Helpful documentation:\n",
    "* [AnalysisContainer](https://mikekatz04.github.io/LISAanalysistools/build/html/user/datacontainer.html#analysis-container)\n",
    "* [AnalysisContainer.loglog](https://mikekatz04.github.io/LISAanalysistools/build/html/user/datacontainer.html#lisatools.analysiscontainer.AnalysisContainer.loglog)"
   ]
  },
  {
   "cell_type": "code",
   "execution_count": null,
   "metadata": {},
   "outputs": [],
   "source": [
    "现在我们将数据和灵敏度信息合并为一个AnalysisContainer对象。该对象在引擎驱动下正确处理不同的数据和灵敏度矩阵，有助于简化分析。\n",
    "用数据和灵敏度信息绘制新的数据集，过会儿之后我们将用这个对象做一些计算"
   ]
  },
  {
   "cell_type": "code",
   "execution_count": null,
   "metadata": {},
   "outputs": [],
   "source": [
    "from lisatools.analysiscontainer import AnalysisContainer"
   ]
  },
  {
   "cell_type": "code",
   "execution_count": null,
   "metadata": {},
   "outputs": [],
   "source": [
    "analysis = AnalysisContainer(data_res_arr, sens_mat)\n",
    "fig, ax = analysis.loglog()\n",
    "ax[0].set_ylim(1e-21, 1e-16)"
   ]
  },
  {
   "cell_type": "markdown",
   "metadata": {},
   "source": [
    "## Task 4: Compute the inner product."
   ]
  },
  {
   "cell_type": "markdown",
   "metadata": {},
   "source": [
    "Now we will inject a signal into the data and calculate the inner product of another signal with that data. We will take `data_res_arr` as the data input. \n",
    "\n",
    "Generate a new signal witih a slightly different set of parameters from the injection you chose above. "
   ]
  },
  {
   "cell_type": "code",
   "execution_count": null,
   "metadata": {},
   "outputs": [],
   "source": [
    "任务4：计算内积"
   ]
  },
  {
   "cell_type": "code",
   "execution_count": null,
   "metadata": {},
   "outputs": [],
   "source": [
    "现在我们将向数据中输入一个信号并计算该数据与另一个信号的内积。我们将用data_res_arr作为输入。\n",
    "用上面你选择的输入信号生成一个参数略微不同的新信号。"
   ]
  },
  {
   "cell_type": "code",
   "execution_count": null,
   "metadata": {},
   "outputs": [],
   "source": [
    "A_up = A # 1.05e-19\n",
    "f0_up = f0 # 3.05e-2\n",
    "fdot_up = fdot * (1.000005)\n",
    "phi0_up = phi0  # 3.6"
   ]
  },
  {
   "cell_type": "code",
   "execution_count": null,
   "metadata": {},
   "outputs": [],
   "source": [
    "h1_up = A_up * np.sin(2 * np.pi * (f0_up * t + 1/2 * fdot_new * t ** 2) + phi0_up)\n",
    "h2_up = A_up * np.cos(2 * np.pi * (f0_up* t + 1/2 * fdot_new * t ** 2) + phi0_up)"
   ]
  },
  {
   "cell_type": "markdown",
   "metadata": {},
   "source": [
    "### Question:"
   ]
  },
  {
   "cell_type": "markdown",
   "metadata": {},
   "source": [
    "What is the inner product value of your new signal with the injected data? With numpy calculate the inner product using this equation:\n",
    "\n",
    "$$ \\langle h_1 | h_2 \\rangle = 4 \\text{Re} \\int_{f_\\text{min}}^{f_\\text{max}}\\frac{\\tilde{h}_1(f)^*\\tilde{h}_2(f)}{S_n(f)}df \\ \\ .$$\n"
   ]
  },
  {
   "cell_type": "code",
   "execution_count": null,
   "metadata": {},
   "outputs": [],
   "source": [
    "问题："
   ]
  },
  {
   "cell_type": "code",
   "execution_count": null,
   "metadata": {},
   "outputs": [],
   "source": [
    "新的信号和之前输入的信号的内积是？使用numpy公式计算内积：\n",
    "⟨h1|h2⟩=4Re∫fmaxfminh̃ 1(f)∗h̃ 2(f)Sn(f)df "
   ]
  },
  {
   "cell_type": "code",
   "execution_count": null,
   "metadata": {},
   "outputs": [],
   "source": [
    "template = DataResidualArray([h1_up, h2_up],  dt=dt)\n",
    "sens_mat.update_frequency_arr(template.f_arr)\n",
    "hold_hup = 4 * template.df * np.real(np.sum(template[:, 1:].conj() * data_res_arr[:, 1:] / sens_mat[:, 1:]))\n",
    "print(hold_hup)"
   ]
  },
  {
   "cell_type": "markdown",
   "metadata": {},
   "source": [
    "Now, calculate the inner product using the [inner_product](https://mikekatz04.github.io/LISAanalysistools/build/html/user/datacontainer.html#lisatools.analysiscontainer.AnalysisContainer.inner_product) method in the `AnalysisContainer` class. "
   ]
  },
  {
   "cell_type": "code",
   "execution_count": null,
   "metadata": {},
   "outputs": [],
   "source": [
    "现在，用AnalysisContainer集中的inner_product方法计算内积"
   ]
  },
  {
   "cell_type": "code",
   "execution_count": null,
   "metadata": {},
   "outputs": [],
   "source": [
    "analysis.template_inner_product(template)"
   ]
  },
  {
   "cell_type": "markdown",
   "metadata": {},
   "source": [
    "The numbers may not match exactly. Under the hood, the inner product function in `lisatools` uses `np.trapz`. If you do a sum, you may get a very small and negligible difference.\n",
    "\n",
    "Play around with the parameters you chose above. Try to understand how the inner product changes with the parameters you choose (i.e. how far they are from the injection parameters). "
   ]
  },
  {
   "cell_type": "code",
   "execution_count": null,
   "metadata": {},
   "outputs": [],
   "source": [
    "数值可能不一定准确吻合。在该引擎驱动下，lisatools中的内积函数使用的是np.trapz.如果你进行一个求和运算，你可能得到一个非常小且可忽略不计的误差。"
   ]
  },
  {
   "cell_type": "code",
   "execution_count": null,
   "metadata": {},
   "outputs": [],
   "source": [
    "对上面的参数进行修改。试着弄明白内积如何随着你选定的参数进行变化。（也就是它们和参数间的距离）"
   ]
  },
  {
   "cell_type": "markdown",
   "metadata": {},
   "source": [
    "## Task 5: Compute the signal-to-noise ratio."
   ]
  },
  {
   "cell_type": "markdown",
   "metadata": {},
   "source": [
    "There are two signal-to-noise ratios (SNR) that are of interest to LISA folks. One is the optimal SNR ($\\rho_\\text{opt}$) of a template. This is the maximal SNR a template can possible achieve with a given noise profile ($h$ is the template):\n",
    "$$ \\rho_\\text{opt} = \\sqrt{\\langle h | h \\rangle}\\ \\ .  $$\n",
    "In other words, if the injection data is exactly equivalent to the template, it will achieve this SNR. \n",
    "\n",
    "Another SNR of interest is the detected snr ($\\rho_\\text{det}$). It is given by,\n",
    "$$ \\rho_\\text{det} = \\frac{\\langle d | h \\rangle}{\\sqrt{\\langle h | h \\rangle}} = \\frac{\\langle d | h \\rangle}{\\rho_\\text{opt}}\\ \\ .  $$\n",
    "\n",
    "Above, you calcualted $\\langle d | h \\rangle$, now calculate $\\langle h | h \\rangle$ with numpy array operations and compute the optimal and detected SNR."
   ]
  },
  {
   "cell_type": "code",
   "execution_count": null,
   "metadata": {},
   "outputs": [],
   "source": [
    "任务5：计算信噪比"
   ]
  },
  {
   "cell_type": "code",
   "execution_count": null,
   "metadata": {},
   "outputs": [],
   "source": [
    "这里有两种信噪比是LISA的团队所感兴趣的。一种是一个样本信号的最佳信噪比。这是当噪声分布给定的条件下一个样本信号的信噪比"
   ]
  },
  {
   "cell_type": "code",
   "execution_count": null,
   "metadata": {},
   "outputs": [],
   "source": [
    "也就是说，如果输入的信号是恰好与样本信号相等的，那么这个样本信号就达到了最佳信噪比\n",
    "另一种感兴趣的信噪比是探测信噪比，它由公式给出，"
   ]
  },
  {
   "cell_type": "code",
   "execution_count": null,
   "metadata": {},
   "outputs": [],
   "source": [
    "据此，如果计算出了⟨d|h⟩，现在用numpy操作计算⟨h|h⟩就可以计算最佳信噪比和探测信噪比了"
   ]
  },
  {
   "cell_type": "code",
   "execution_count": null,
   "metadata": {},
   "outputs": [],
   "source": [
    "hnew_hup = 4 * template.df * np.real(np.sum(template[:, 1:].conj() * template[:, 1:] / sens_mat[:, 1:]))\n",
    "print(hup_hup)\n",
    "print(f\"Op SNR: {np.sqrt(hnew_hnew)}, Dete SNR: {hold_hup / np.sqrt(hup_hup)}\")"
   ]
  },
  {
   "cell_type": "markdown",
   "metadata": {},
   "source": [
    "To compute these values with the `AnalysisContainer` object, use the [template_snr](https://mikekatz04.github.io/LISAanalysistools/build/html/user/datacontainer.html#lisatools.analysiscontainer.AnalysisContainer.template_snr) method."
   ]
  },
  {
   "cell_type": "code",
   "execution_count": null,
   "metadata": {},
   "outputs": [],
   "source": [
    "为了用AnalysisContainer对象计算这些数值，我们使用template_snr方法"
   ]
  },
  {
   "cell_type": "code",
   "execution_count": null,
   "metadata": {},
   "outputs": [],
   "source": [
    "sens_mat.shape"
   ]
  },
  {
   "cell_type": "markdown",
   "metadata": {},
   "source": [
    "### Question"
   ]
  },
  {
   "cell_type": "markdown",
   "metadata": {},
   "source": [
    "How does changing the parameters of your template affect the optimal SNR and the detected SNR?"
   ]
  },
  {
   "cell_type": "code",
   "execution_count": null,
   "metadata": {},
   "outputs": [],
   "source": [
    "问题\n",
    "样本信号的改变将怎样影响最佳信噪比和探测信噪比？"
   ]
  },
  {
   "cell_type": "markdown",
   "metadata": {},
   "source": [
    "## Task 6: Compute the Likelihood. "
   ]
  },
  {
   "cell_type": "code",
   "execution_count": null,
   "metadata": {},
   "outputs": [],
   "source": [
    "任务6：计算似然值"
   ]
  },
  {
   "cell_type": "markdown",
   "metadata": {},
   "source": [
    "The Likelihood used in LISA (and other areas of GWs) is a Gaussian likelihood that replaces the typical $\\frac{x - \\mu}{\\sigma}$ term with the noise-weighted inner product of the residual data with itself: $\\langle \\vec{d} - \\vec{h} | \\vec{d} - \\vec{h} \\rangle$. Let's break that down. \n",
    "\n",
    "1) What do we mean when we say residual? It is the difference between the data and the template.\n",
    "\n",
    "$$ \\vec{r} = \\vec{d} - \\vec{h} $$\n",
    "\n",
    "Calculate the residual of the data and the template and store it in a new `DataResidualArray`."
   ]
  },
  {
   "cell_type": "code",
   "execution_count": null,
   "metadata": {},
   "outputs": [],
   "source": [
    "LISA（以及其他关于引力波的领域）所使用的似然值是高斯似然值,它用有它自己与残差数据的噪声加权的内积⟨d⃗ −h⃗ |d⃗ −h⃗ ⟩\n",
    " 替换了典型项（x−μ）/σ.让我们来分析一下。\n",
    "（1）当我们讨论残差时我们想表达什么？这是输入数据与样本信号之间的差距。\n",
    " 计算输入数据与样本信号的残差并把它储存到一个新的DataResidualArray中。"
   ]
  },
  {
   "cell_type": "code",
   "execution_count": null,
   "metadata": {},
   "outputs": [],
   "source": [
    "resil1 = h1_up - h1\n",
    "resil2 = h2_up - h2\n",
    "\n",
    "residual = DataResidualArray([r1, r2], dt=dt)"
   ]
  },
  {
   "cell_type": "markdown",
   "metadata": {},
   "source": [
    "2) Calculate the inner product of the residual with itself. Hint: You can put it in a new `AnalysisContainer` and calculate it directly with that. "
   ]
  },
  {
   "cell_type": "code",
   "execution_count": null,
   "metadata": {},
   "outputs": [],
   "source": [
    "2）计算残差与它自己的内积。提示：可以把它放入一个新的AnalysisContainer然后直接与它自己进行内积运算。"
   ]
  },
  {
   "cell_type": "code",
   "execution_count": null,
   "metadata": {},
   "outputs": [],
   "source": [
    "analysis_res = AnalysisContainer(residual, sens_mat)\n",
    "print(analysis_res.inner_production())"
   ]
  },
  {
   "cell_type": "markdown",
   "metadata": {},
   "source": [
    "3) Build the full Likelihood. The Gaussian likelihood is given by,\n",
    "$$ \\mathcal{L} = e^{-\\frac{1}{2}\\langle \\vec{d} - \\vec{h} | \\vec{d} - \\vec{h} \\rangle} \\ \\ . $$\n",
    "\n",
    "We usually work with the natural log of the Likelihood:\n",
    "$$ \\ln{\\mathcal{L}} = -\\frac{1}{2}\\langle \\vec{d} - \\vec{h} | \\vec{d} - \\vec{h} \\rangle \\ \\ . $$\n",
    "\n",
    "With this in mind. Take your inner product value from above and calculate the Likelihood of this template. "
   ]
  },
  {
   "cell_type": "code",
   "execution_count": null,
   "metadata": {},
   "outputs": [],
   "source": [
    "3）建立最大似然值。高斯似然值由下式给出，\n",
    "我们经常使用这个似然值的自然对数，需要记住它\n",
    "根据上文得到内积并根据这个公式用内积计算似然值"
   ]
  },
  {
   "cell_type": "code",
   "execution_count": null,
   "metadata": {},
   "outputs": [],
   "source": [
    "llh = -0.5 * analysis_res.inner_production()\n",
    "print(f\"Llh: {llh}\")"
   ]
  },
  {
   "cell_type": "markdown",
   "metadata": {},
   "source": [
    "We can also break apart the inner product into usual pieces because the inner product is a linear operation:\n",
    "$$ \\ln{\\mathcal{L}} = -\\frac{1}{2}\\left(\\langle \\vec{d} | \\vec{d}\\rangle + \\langle \\vec{h} | \\vec{h}\\rangle - 2 \\langle \\vec{d} | \\vec{h}\\rangle\\right) \\ \\ . $$\n",
    "\n",
    "You should see some familiar terms emerging:\n",
    "* $\\langle \\vec{h} | \\vec{h}\\rangle = \\rho_\\text{opt}^2$\n",
    "* $\\langle \\vec{d} | \\vec{h}\\rangle \\sim \\rho_\\text{det} * \\rho_\\text{opt}$ (when phase maximized)\n",
    "* $\\langle \\vec{d} | \\vec{d}\\rangle$ is the inner product of the data with itself. In MCMC analysis generally, the $\\langle \\vec{d} | \\vec{d}\\rangle$ term will remain constant throughout sampling.\n",
    "\n",
    "You can calculate the Likelihood of a template against the data using the [template_likelihood](https://mikekatz04.github.io/LISAanalysistools/build/html/user/datacontainer.html#lisatools.analysiscontainer.AnalysisContainer.template_likelihood) method in the `AnalysisContainer` class. "
   ]
  },
  {
   "cell_type": "code",
   "execution_count": null,
   "metadata": {},
   "outputs": [],
   "source": [
    "也可以分解内积为基本单元的叠加，因为内积计算是线性运算\n",
    "这里，你应该发现了一些熟悉的数量关系涌现了出来\n",
    "（当相位差最大时）\n",
    "是输入数据与它自己的内积。在马尔科夫链蒙特卡罗分析（MCMC）方法领域，通常地，在采样过程中这一项会保持为常量\n",
    "你可以使用AnalysisContainer类中的template_likelihood方法，根据数据计算样本的可能性。"
   ]
  },
  {
   "cell_type": "code",
   "execution_count": null,
   "metadata": {},
   "outputs": [],
   "source": [
    "analysis.template_likelihood(template)"
   ]
  },
  {
   "cell_type": "markdown",
   "metadata": {},
   "source": [
    "### Question:\n"
   ]
  },
  {
   "cell_type": "markdown",
   "metadata": {},
   "source": [
    "How does changing the parameters effect the Likelihood? How does that relate the optimal and detected SNR values? There are two interesting keyword arguments in the [template_likelihood](https://mikekatz04.github.io/LISAanalysistools/build/html/user/datacontainer.html#lisatools.analysiscontainer.AnalysisContainer.template_snr) method: `include_psd_info` and `phase_maximize`. The `phase_maximize` argument can be found for both the Likelihood and SNR computations. Reading the documentation and adding those keyword arguments in, can you figure out what they are doing with these calculations?"
   ]
  },
  {
   "cell_type": "code",
   "execution_count": null,
   "metadata": {},
   "outputs": [],
   "source": [
    "问题：\n",
    "参数的改变会怎样影响似然值？这一点与最佳以及探测信噪比有什么关系？在template_likelihood方法中有两种有趣的参数值：include_psd_info和phase_maximize，它们在似然值与信噪比的计算中都存在。阅读一下文档并\n",
    "添加这些参数，你能指出它们在计算中起着什么作用吗？"
   ]
  },
  {
   "cell_type": "markdown",
   "metadata": {},
   "source": [
    "## Task 7: Add a signal model. "
   ]
  },
  {
   "cell_type": "code",
   "execution_count": null,
   "metadata": {},
   "outputs": [],
   "source": [
    "任务7：添加一个信号模型"
   ]
  },
  {
   "cell_type": "markdown",
   "metadata": {},
   "source": [
    "Now we will add a signal model to our Likelihood class. You can either set it as a keyword argument when instantiating the `AnalysisContainer`. Or you can just set it as an attribute after the fact. \n",
    "\n",
    "But first, we need to turn our sinusoidal signal into a function. Build a function that takes our four parameters ($A$, $f_0$, $\\dot{f}_0$, and $\\phi_0$) and returns a list of `[h1, h2]`. Add the time array as an argument to your generator. So it should have a signature like: `sinusoidal_waveform(A: float, f0: float, fdot0: float, phi0: float, t_arr: np.ndarray)`"
   ]
  },
  {
   "cell_type": "code",
   "execution_count": null,
   "metadata": {},
   "outputs": [],
   "source": [
    "现在我们将在似然值类中添加一个信号模型。你既可以在实例化AnalysisContainer时将它作为一个参数值处理，也可以在这之后设定它为属性。\n",
    "但首先，我们需要把我们的正弦波信号转化为一个函数。建立一个接受四个变量的函数，并将它返回列[h1,h2]。添加时间序列作为关键字。因此它会有像sinusoidal_waveform(A: float, f0: float, fdot0: float, phi0: float, t_arr: np.ndarray)\n",
    "的签名。"
   ]
  },
  {
   "cell_type": "code",
   "execution_count": null,
   "metadata": {},
   "outputs": [],
   "source": [
    "def sinusoidal_waveform(A: float, f0: float, fdot: float, phi0: float, t: np.ndarray, **kwargs) -> [np.ndarray, np.ndarray]:\n",
    "    h1 = A * np.sin(2 * np.pi * (f0 * t + 1/2 * t * fdot ) + phi0)\n",
    "    h2 = A * np.cos(2 * np.pi * (f0 * t + 1/2 * t * fdot ) + phi0)\n",
    "    return [h1, h2]"
   ]
  },
  {
   "cell_type": "markdown",
   "metadata": {},
   "source": [
    "Now add the signal model to our Likelihood class by updating the `signal_gen` attribute. "
   ]
  },
  {
   "cell_type": "code",
   "execution_count": null,
   "metadata": {},
   "outputs": [],
   "source": [
    "现在，通过更新signal_gen这一属性把信号模型添加到似然值类"
   ]
  },
  {
   "cell_type": "code",
   "execution_count": null,
   "metadata": {},
   "outputs": [],
   "source": [
    "analysis.signal_gen = sinusoidal_waveform"
   ]
  },
  {
   "cell_type": "markdown",
   "metadata": {},
   "source": [
    "Calculate the Likelihood with a new set of parameters. Remember to add `t` as a last argument to your inputs.\n",
    "\n",
    "Helpful documentation:\n",
    "* [AnalysisContainer.calculate_signal_likelihood](https://mikekatz04.github.io/LISAanalysistools/build/html/user/datacontainer.html#lisatools.analysiscontainer.AnalysisContainer.calculate_signal_likelihood)"
   ]
  },
  {
   "cell_type": "code",
   "execution_count": null,
   "metadata": {},
   "outputs": [],
   "source": [
    "用一组新参数计算似然值。记得把t作为你输入的最后一个参数值\n",
    "有用的文档\n"
   ]
  },
  {
   "cell_type": "code",
   "execution_count": null,
   "metadata": {},
   "outputs": [],
   "source": [
    "analysis.calculate_signal_likelihood(A*1.01, f0*1.00, fdot, phi0, t, source_only=True)"
   ]
  },
  {
   "cell_type": "markdown",
   "metadata": {},
   "source": [
    "## Extra practice"
   ]
  },
  {
   "cell_type": "markdown",
   "metadata": {},
   "source": [
    " Now repeat various parts of the tutorial adjusting the signal or the sensitivity model. Observe how that changes the inner product, SNR, and Likelihood. Having an understanding of these elements is crucial to LISA data analysis!"
   ]
  },
  {
   "cell_type": "code",
   "execution_count": null,
   "metadata": {},
   "outputs": [],
   "source": [
    "附加练习\n",
    "现在重复教程中的一些调整信号或模型的灵敏度的部分。观察这样做会怎样改变内积，信噪比以及似然值。这些理解对LISA数据分析是非常关键的！"
   ]
  },
  {
   "cell_type": "markdown",
   "metadata": {},
   "source": [
    "总结与收获\n",
    "  学习了第一讲，第一感受是死去的上学期学的通信技术基础课程的知识又复活回来攻击我，翻译中关于那几个信噪比的知识搞得我一时匹配不上脑中已有的知识，因此查阅了一些资料才敢下笔，但最后也不知道我的理解对不对，在查阅资料的过程中对LISA以及引力波探测的技术手段有了更多更深入的认识。不过最让我印象深刻的是这里关于内积的计算，内积真是好东西，可以让我们衡量两个信号的重合度，不由得让我想起量子力学里希尔伯特空间的内积，不过我数学学的不是很好，就不多说了。\n",
    "  这里的编程问题让我大开眼界，我学到了很多对我来说很新颖而实用的技术，比如loglog算法，同时，合并灵敏度矩阵对数据进行分析的思想也让我十分受用，感觉之前自己绝对想不到这些，写也写不出来，不过相信随着不断地练习与应用，我可以把引力波数据处理做好。"
   ]
  }
 ],
 "metadata": {
  "kernelspec": {
   "display_name": "Python 3",
   "language": "python",
   "name": "python3"
  },
  "language_info": {
   "codemirror_mode": {
    "name": "ipython",
    "version": 3
   },
   "file_extension": ".py",
   "mimetype": "text/x-python",
   "name": "python",
   "nbconvert_exporter": "python",
   "pygments_lexer": "ipython3",
   "version": "3.7.0"
  }
 },
 "nbformat": 4,
 "nbformat_minor": 5
}
